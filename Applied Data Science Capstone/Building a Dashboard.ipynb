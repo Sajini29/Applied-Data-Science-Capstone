{
 "cells": [
  {
   "cell_type": "code",
   "execution_count": 1,
   "id": "9602a20f",
   "metadata": {},
   "outputs": [
    {
     "name": "stderr",
     "output_type": "stream",
     "text": [
      "C:\\Users\\Asus\\AppData\\Local\\Temp\\ipykernel_17476\\2672089559.py:2: UserWarning: \n",
      "The dash_core_components package is deprecated. Please replace\n",
      "`import dash_core_components as dcc` with `from dash import dcc`\n",
      "  import dash_core_components as dcc\n",
      "C:\\Users\\Asus\\AppData\\Local\\Temp\\ipykernel_17476\\2672089559.py:3: UserWarning: \n",
      "The dash_html_components package is deprecated. Please replace\n",
      "`import dash_html_components as html` with `from dash import html`\n",
      "  import dash_html_components as html\n"
     ]
    }
   ],
   "source": [
    "import dash\n",
    "import dash_core_components as dcc\n",
    "import dash_html_components as html\n",
    "from dash.dependencies import Input, Output\n",
    "import pandas as pd\n",
    "import plotly.express as px"
   ]
  },
  {
   "cell_type": "code",
   "execution_count": 2,
   "id": "59ab5c16",
   "metadata": {},
   "outputs": [],
   "source": [
    "# Load the SpaceX launch data\n",
    "spacex_df = pd.read_csv(\"spacex_launch_dash.csv\")"
   ]
  },
  {
   "cell_type": "code",
   "execution_count": 3,
   "id": "b7968c0b",
   "metadata": {},
   "outputs": [
    {
     "name": "stdout",
     "output_type": "stream",
     "text": [
      "Dash is running on http://127.0.0.1:8058/\n",
      "\n",
      " * Serving Flask app \"__main__\" (lazy loading)\n",
      " * Environment: production\n",
      "\u001b[31m   WARNING: This is a development server. Do not use it in a production deployment.\u001b[0m\n",
      "\u001b[2m   Use a production WSGI server instead.\u001b[0m\n",
      " * Debug mode: on\n"
     ]
    },
    {
     "ename": "SystemExit",
     "evalue": "1",
     "output_type": "error",
     "traceback": [
      "An exception has occurred, use %tb to see the full traceback.\n",
      "\u001b[1;31mSystemExit\u001b[0m\u001b[1;31m:\u001b[0m 1\n"
     ]
    },
    {
     "name": "stderr",
     "output_type": "stream",
     "text": [
      "D:\\Setups_2\\Anaconda\\lib\\site-packages\\IPython\\core\\interactiveshell.py:3465: UserWarning: To exit: use 'exit', 'quit', or Ctrl-D.\n",
      "  warn(\"To exit: use 'exit', 'quit', or Ctrl-D.\", stacklevel=1)\n"
     ]
    }
   ],
   "source": [
    "\n",
    "\n",
    "# Create a Dash app\n",
    "app = dash.Dash(__name__)\n",
    "\n",
    "# Define the layout of the app\n",
    "app.layout = html.Div([\n",
    "    html.H1(\"SpaceX Launch Data Analysis Dashboard\"),\n",
    "    html.Div([\n",
    "        dcc.Dropdown(id='site-dropdown',\n",
    "                     options=[\n",
    "                         {'label': 'All Sites', 'value': 'ALL'},\n",
    "                         {'label': 'CCAFS LC-40', 'value': 'CCAFS LC-40'},\n",
    "                         {'label': 'VAFB SLC-4E', 'value': 'VAFB SLC-4E'},\n",
    "                         {'label': 'KSC LC-39A', 'value': 'KSC LC-39A'},\n",
    "                         {'label': 'CCAFS SLC-40', 'value': 'CCAFS SLC-40'}\n",
    "                     ],\n",
    "                     value='ALL',\n",
    "                     placeholder=\"Select a Launch Site here\",\n",
    "                     searchable=True\n",
    "                    ),\n",
    "    ]),\n",
    "    html.Br(),\n",
    "    html.Div([\n",
    "        dcc.Graph(id='success-pie-chart')\n",
    "    ]),\n",
    "    html.Br(),\n",
    "    html.Div([\n",
    "        dcc.RangeSlider(id='payload-slider',\n",
    "                        min=0, max=10000, step=1000,\n",
    "                        marks={0: '0', 10000: '10000'},\n",
    "                        value=[0, 10000]\n",
    "                       ),\n",
    "    ]),\n",
    "    html.Br(),\n",
    "    html.Div([\n",
    "        dcc.Graph(id='success-payload-scatter-chart')\n",
    "    ])\n",
    "])\n",
    "\n",
    "# Callback to update success-pie-chart based on selected site\n",
    "@app.callback(Output('success-pie-chart', 'figure'), [Input('site-dropdown', 'value')])\n",
    "def update_pie_chart(selected_site):\n",
    "    if selected_site == 'ALL':\n",
    "        fig = px.pie(spacex_df, names='class', title='Total Success Launches')\n",
    "    else:\n",
    "        filtered_df = spacex_df[spacex_df['Launch Site'] == selected_site]\n",
    "        fig = px.pie(filtered_df, names='class', title=f'Success Launches at {selected_site}')\n",
    "    return fig\n",
    "\n",
    "# Callback to update success-payload-scatter-chart based on selected site and payload range\n",
    "@app.callback(Output('success-payload-scatter-chart', 'figure'), [Input('site-dropdown', 'value'), Input('payload-slider', 'value')])\n",
    "def update_scatter_chart(selected_site, payload_range):\n",
    "    if selected_site == 'ALL':\n",
    "        filtered_df = spacex_df[(spacex_df['Payload Mass (kg)'] >= payload_range[0]) & (spacex_df['Payload Mass (kg)'] <= payload_range[1])]\n",
    "        fig = px.scatter(filtered_df, x='Payload Mass (kg)', y='class', color='Booster Version Category', title='Payload vs Success')\n",
    "    else:\n",
    "        filtered_df = spacex_df[(spacex_df['Launch Site'] == selected_site) & (spacex_df['Payload Mass (kg)'] >= payload_range[0]) & (spacex_df['Payload Mass (kg)'] <= payload_range[1])]\n",
    "        fig = px.scatter(filtered_df, x='Payload Mass (kg)', y='class', color='Booster Version Category', title=f'Payload vs Success at {selected_site}')\n",
    "    return fig\n",
    "\n",
    "if __name__ == '__main__':\n",
    "    app.run_server(debug=True, port=8058)\n"
   ]
  },
  {
   "cell_type": "code",
   "execution_count": null,
   "id": "ded2d308",
   "metadata": {},
   "outputs": [],
   "source": [
    "%tb"
   ]
  },
  {
   "cell_type": "code",
   "execution_count": null,
   "id": "f7c17d6b",
   "metadata": {},
   "outputs": [],
   "source": []
  },
  {
   "cell_type": "code",
   "execution_count": null,
   "id": "f231ab68",
   "metadata": {},
   "outputs": [],
   "source": []
  },
  {
   "cell_type": "code",
   "execution_count": null,
   "id": "59a9ce47",
   "metadata": {},
   "outputs": [],
   "source": []
  }
 ],
 "metadata": {
  "kernelspec": {
   "display_name": "Python 3 (ipykernel)",
   "language": "python",
   "name": "python3"
  },
  "language_info": {
   "codemirror_mode": {
    "name": "ipython",
    "version": 3
   },
   "file_extension": ".py",
   "mimetype": "text/x-python",
   "name": "python",
   "nbconvert_exporter": "python",
   "pygments_lexer": "ipython3",
   "version": "3.9.13"
  }
 },
 "nbformat": 4,
 "nbformat_minor": 5
}
